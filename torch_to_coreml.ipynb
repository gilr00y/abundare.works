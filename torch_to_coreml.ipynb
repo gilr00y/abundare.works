{
 "cells": [
  {
   "cell_type": "code",
   "execution_count": 2,
   "metadata": {},
   "outputs": [],
   "source": [
    "import sys\n",
    "from onnx import onnx_pb\n",
    "from onnx_coreml import convert"
   ]
  },
  {
   "cell_type": "code",
   "execution_count": null,
   "metadata": {},
   "outputs": [],
   "source": [
    "torch_model_path = './epoch_300_2019_07_06.onnx'\n",
    "model_out = './epoch_300_2019_07_06.mlmodel'\n",
    "\n",
    "model_file = open(model_in, 'rb')\n",
    "model_proto = onnx_pb.ModelProto()\n",
    "model_proto.ParseFromString(model_file.read())\n",
    "coreml_model = convert(model_proto, image_input_names=['inputImage'], image_output_names=['outputImage'])\n",
    "coreml_model.save(model_out)\n"
   ]
  }
 ],
 "metadata": {
  "kernelspec": {
   "display_name": "Python 3",
   "language": "python",
   "name": "python3"
  },
  "language_info": {
   "codemirror_mode": {
    "name": "ipython",
    "version": 3
   },
   "file_extension": ".py",
   "mimetype": "text/x-python",
   "name": "python",
   "nbconvert_exporter": "python",
   "pygments_lexer": "ipython3",
   "version": "3.6.8"
  }
 },
 "nbformat": 4,
 "nbformat_minor": 2
}
